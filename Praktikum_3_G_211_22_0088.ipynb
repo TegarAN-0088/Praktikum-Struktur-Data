{
  "nbformat": 4,
  "nbformat_minor": 0,
  "metadata": {
    "colab": {
      "provenance": [],
      "authorship_tag": "ABX9TyOxDCqOnoFyGLZfm94WVbK8",
      "include_colab_link": true
    },
    "kernelspec": {
      "name": "python3",
      "display_name": "Python 3"
    },
    "language_info": {
      "name": "python"
    }
  },
  "cells": [
    {
      "cell_type": "markdown",
      "metadata": {
        "id": "view-in-github",
        "colab_type": "text"
      },
      "source": [
        "<a href=\"https://colab.research.google.com/github/TegarAN-0088/Praktikum-Struktur-Data/blob/main/Praktikum_3_G_211_22_0088.ipynb\" target=\"_parent\"><img src=\"https://colab.research.google.com/assets/colab-badge.svg\" alt=\"Open In Colab\"/></a>"
      ]
    },
    {
      "cell_type": "markdown",
      "source": [
        "MENYUSUN KATA \"PROGRAMMING\""
      ],
      "metadata": {
        "id": "6T0ttTPxSaDw"
      }
    },
    {
      "cell_type": "code",
      "source": [
        "def list_to_string(input_list):\n",
        "    # Menggabungkan semua karakter dalam daftar menjadi satu string\n",
        "    output_string = ''.join(input_list)\n",
        "    return output_string\n",
        "\n",
        "# Contoh penggunaan fungsi dengan input yang lebih kompleks\n",
        "input_list = ['p', 'r', 'o', 'g', 'r', 'a', 'm', 'm', 'i', 'n', 'g']\n",
        "output_string = list_to_string(input_list)\n",
        "\n",
        "print(\"Hasil susunan:\", output_string)\n"
      ],
      "metadata": {
        "colab": {
          "base_uri": "https://localhost:8080/"
        },
        "id": "x4ZkvHtwSe-s",
        "outputId": "336b5808-6630-4d31-8233-12ada751ca25"
      },
      "execution_count": 2,
      "outputs": [
        {
          "output_type": "stream",
          "name": "stdout",
          "text": [
            "Hasil susunan: programming\n"
          ]
        }
      ]
    }
  ]
}